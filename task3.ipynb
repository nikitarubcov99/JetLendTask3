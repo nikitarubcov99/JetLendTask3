{
 "cells": [
  {
   "cell_type": "markdown",
   "id": "dce325de-21c8-4772-9501-345380a32e3e",
   "metadata": {},
   "source": [
    "# Загрузка и предобработка данных"
   ]
  },
  {
   "cell_type": "code",
   "execution_count": 1,
   "id": "e0ea0030-a05c-417d-acbe-cced1b36b9bc",
   "metadata": {},
   "outputs": [],
   "source": [
    "import pandas as pd"
   ]
  },
  {
   "cell_type": "code",
   "execution_count": 2,
   "id": "818c36ce-08ca-4b8f-a672-3fa7f56348dc",
   "metadata": {},
   "outputs": [],
   "source": [
    "df = pd.read_csv('data.csv', header=None)\n"
   ]
  },
  {
   "cell_type": "code",
   "execution_count": 3,
   "id": "b74b2172-c469-46f6-9a96-3fccb43f2070",
   "metadata": {},
   "outputs": [],
   "source": [
    "df = df.iloc[2:]"
   ]
  },
  {
   "cell_type": "code",
   "execution_count": 4,
   "id": "2701e315-b263-42f7-be02-aaac6bb54429",
   "metadata": {},
   "outputs": [
    {
     "name": "stdout",
     "output_type": "stream",
     "text": [
      "             0   1      2          3            4       5   6  7  8  9   ...  \\\n",
      "2   3 170 000 ₽   7  5,30%  211 051 ₽    862 850 ₽   1,50% NaN  0  0  0  ...   \n",
      "3     500 000 ₽  17  6,50%   39 518 ₽    289 518 ₽  10,00% NaN  0  0  0  ...   \n",
      "4  11 600 897 ₽   9  4,50%  537 680 ₽  9 567 386 ₽   1,50% NaN  0  0  0  ...   \n",
      "5   5 250 000 ₽  13  4,50%  233 022 ₽  2 858 022 ₽   1,50% NaN  0  0  0  ...   \n",
      "6   3 000 000 ₽   8  3,75%  216 485 ₽          0 ₽   0,00% NaN  0  0  0  ...   \n",
      "\n",
      "  19 20 21 22 23 24 25 26 27 28  \n",
      "2  0  0  0  0  0  0  0  0  0  0  \n",
      "3  0  0  1  1  0  0  0  0  0  0  \n",
      "4  0  0  0  0  0  0  0  0  0  0  \n",
      "5  0  0  0  1  0  0  1  0  0  0  \n",
      "6  0  0  0  0  0  0  0  0  0  0  \n",
      "\n",
      "[5 rows x 29 columns]\n"
     ]
    }
   ],
   "source": [
    "print(df.head(5))"
   ]
  },
  {
   "cell_type": "code",
   "execution_count": 5,
   "id": "2cb7493f-f375-4f1c-936b-a4bef54e3ef4",
   "metadata": {},
   "outputs": [],
   "source": [
    "df = df.drop(df.columns[6], axis=1)"
   ]
  },
  {
   "cell_type": "code",
   "execution_count": 7,
   "id": "ac45f6ca-3f7a-4cc2-b549-d19126a78d1f",
   "metadata": {},
   "outputs": [
    {
     "data": {
      "text/html": [
       "<div>\n",
       "<style scoped>\n",
       "    .dataframe tbody tr th:only-of-type {\n",
       "        vertical-align: middle;\n",
       "    }\n",
       "\n",
       "    .dataframe tbody tr th {\n",
       "        vertical-align: top;\n",
       "    }\n",
       "\n",
       "    .dataframe thead th {\n",
       "        text-align: right;\n",
       "    }\n",
       "</style>\n",
       "<table border=\"1\" class=\"dataframe\">\n",
       "  <thead>\n",
       "    <tr style=\"text-align: right;\">\n",
       "      <th></th>\n",
       "      <th>0</th>\n",
       "      <th>1</th>\n",
       "      <th>2</th>\n",
       "      <th>3</th>\n",
       "      <th>4</th>\n",
       "      <th>5</th>\n",
       "      <th>7</th>\n",
       "      <th>8</th>\n",
       "      <th>9</th>\n",
       "      <th>10</th>\n",
       "      <th>...</th>\n",
       "      <th>19</th>\n",
       "      <th>20</th>\n",
       "      <th>21</th>\n",
       "      <th>22</th>\n",
       "      <th>23</th>\n",
       "      <th>24</th>\n",
       "      <th>25</th>\n",
       "      <th>26</th>\n",
       "      <th>27</th>\n",
       "      <th>28</th>\n",
       "    </tr>\n",
       "  </thead>\n",
       "  <tbody>\n",
       "    <tr>\n",
       "      <th>0</th>\n",
       "      <td>3 170 000 ₽</td>\n",
       "      <td>7</td>\n",
       "      <td>5,30%</td>\n",
       "      <td>211 051 ₽</td>\n",
       "      <td>862 850 ₽</td>\n",
       "      <td>1,50%</td>\n",
       "      <td>0</td>\n",
       "      <td>0</td>\n",
       "      <td>0</td>\n",
       "      <td>0</td>\n",
       "      <td>...</td>\n",
       "      <td>0</td>\n",
       "      <td>0</td>\n",
       "      <td>0</td>\n",
       "      <td>0</td>\n",
       "      <td>0</td>\n",
       "      <td>0</td>\n",
       "      <td>0</td>\n",
       "      <td>0</td>\n",
       "      <td>0</td>\n",
       "      <td>0</td>\n",
       "    </tr>\n",
       "    <tr>\n",
       "      <th>1</th>\n",
       "      <td>500 000 ₽</td>\n",
       "      <td>17</td>\n",
       "      <td>6,50%</td>\n",
       "      <td>39 518 ₽</td>\n",
       "      <td>289 518 ₽</td>\n",
       "      <td>10,00%</td>\n",
       "      <td>0</td>\n",
       "      <td>0</td>\n",
       "      <td>0</td>\n",
       "      <td>0</td>\n",
       "      <td>...</td>\n",
       "      <td>0</td>\n",
       "      <td>0</td>\n",
       "      <td>1</td>\n",
       "      <td>1</td>\n",
       "      <td>0</td>\n",
       "      <td>0</td>\n",
       "      <td>0</td>\n",
       "      <td>0</td>\n",
       "      <td>0</td>\n",
       "      <td>0</td>\n",
       "    </tr>\n",
       "    <tr>\n",
       "      <th>2</th>\n",
       "      <td>11 600 897 ₽</td>\n",
       "      <td>9</td>\n",
       "      <td>4,50%</td>\n",
       "      <td>537 680 ₽</td>\n",
       "      <td>9 567 386 ₽</td>\n",
       "      <td>1,50%</td>\n",
       "      <td>0</td>\n",
       "      <td>0</td>\n",
       "      <td>0</td>\n",
       "      <td>1</td>\n",
       "      <td>...</td>\n",
       "      <td>0</td>\n",
       "      <td>0</td>\n",
       "      <td>0</td>\n",
       "      <td>0</td>\n",
       "      <td>0</td>\n",
       "      <td>0</td>\n",
       "      <td>0</td>\n",
       "      <td>0</td>\n",
       "      <td>0</td>\n",
       "      <td>0</td>\n",
       "    </tr>\n",
       "    <tr>\n",
       "      <th>3</th>\n",
       "      <td>5 250 000 ₽</td>\n",
       "      <td>13</td>\n",
       "      <td>4,50%</td>\n",
       "      <td>233 022 ₽</td>\n",
       "      <td>2 858 022 ₽</td>\n",
       "      <td>1,50%</td>\n",
       "      <td>0</td>\n",
       "      <td>0</td>\n",
       "      <td>0</td>\n",
       "      <td>0</td>\n",
       "      <td>...</td>\n",
       "      <td>0</td>\n",
       "      <td>0</td>\n",
       "      <td>0</td>\n",
       "      <td>1</td>\n",
       "      <td>0</td>\n",
       "      <td>0</td>\n",
       "      <td>1</td>\n",
       "      <td>0</td>\n",
       "      <td>0</td>\n",
       "      <td>0</td>\n",
       "    </tr>\n",
       "    <tr>\n",
       "      <th>4</th>\n",
       "      <td>3 000 000 ₽</td>\n",
       "      <td>8</td>\n",
       "      <td>3,75%</td>\n",
       "      <td>216 485 ₽</td>\n",
       "      <td>0 ₽</td>\n",
       "      <td>0,00%</td>\n",
       "      <td>0</td>\n",
       "      <td>0</td>\n",
       "      <td>0</td>\n",
       "      <td>0</td>\n",
       "      <td>...</td>\n",
       "      <td>0</td>\n",
       "      <td>0</td>\n",
       "      <td>0</td>\n",
       "      <td>0</td>\n",
       "      <td>0</td>\n",
       "      <td>0</td>\n",
       "      <td>0</td>\n",
       "      <td>0</td>\n",
       "      <td>0</td>\n",
       "      <td>0</td>\n",
       "    </tr>\n",
       "  </tbody>\n",
       "</table>\n",
       "<p>5 rows × 28 columns</p>\n",
       "</div>"
      ],
      "text/plain": [
       "             0   1      2          3            4       5  7  8  9  10  ...  \\\n",
       "0   3 170 000 ₽   7  5,30%  211 051 ₽    862 850 ₽   1,50%  0  0  0  0  ...   \n",
       "1     500 000 ₽  17  6,50%   39 518 ₽    289 518 ₽  10,00%  0  0  0  0  ...   \n",
       "2  11 600 897 ₽   9  4,50%  537 680 ₽  9 567 386 ₽   1,50%  0  0  0  1  ...   \n",
       "3   5 250 000 ₽  13  4,50%  233 022 ₽  2 858 022 ₽   1,50%  0  0  0  0  ...   \n",
       "4   3 000 000 ₽   8  3,75%  216 485 ₽          0 ₽   0,00%  0  0  0  0  ...   \n",
       "\n",
       "  19 20 21 22 23 24 25 26 27 28  \n",
       "0  0  0  0  0  0  0  0  0  0  0  \n",
       "1  0  0  1  1  0  0  0  0  0  0  \n",
       "2  0  0  0  0  0  0  0  0  0  0  \n",
       "3  0  0  0  1  0  0  1  0  0  0  \n",
       "4  0  0  0  0  0  0  0  0  0  0  \n",
       "\n",
       "[5 rows x 28 columns]"
      ]
     },
     "execution_count": 7,
     "metadata": {},
     "output_type": "execute_result"
    }
   ],
   "source": [
    "df = df.reset_index(drop=True)"
   ]
  },
  {
   "cell_type": "code",
   "execution_count": 8,
   "id": "73ebc607-fcb7-4418-a2ef-d801e2582d57",
   "metadata": {},
   "outputs": [],
   "source": [
    "def process_cell(cell):\n",
    "    # Удаление неразрывающихся пробелов и замена запятой на точку\n",
    "    cell = cell.replace('\\xa0', '').replace(',', '.')\n",
    "    return cell"
   ]
  },
  {
   "cell_type": "code",
   "execution_count": 9,
   "id": "8216a785-120d-4712-8300-1db685e3373a",
   "metadata": {},
   "outputs": [],
   "source": [
    "df[0] = df[0].str.replace(' ', '').str.replace('₽', '').str.replace(',', '.')\n",
    "# Применение функции к столбцу 'Сумма'\n",
    "df[0] = df[0].apply(process_cell)\n",
    "\n",
    "# Преобразование столбца в числовой формат (float)\n",
    "df[0] = df[0].astype(float)\n",
    "df[2] = df[2].str.replace(',', '').str.replace('%', '')\n",
    "df[2] = df[2].astype(float) / 100\n",
    "df[3] = df[3].str.replace(' ', '').str.replace('₽', '').str.replace(',', '.')\n",
    "# Применение функции к столбцу 'Сумма'\n",
    "df[3] = df[3].apply(process_cell)\n",
    "\n",
    "# Преобразование столбца в числовой формат (float)\n",
    "df[3] = df[3].astype(float)\n",
    "df[4] = df[4].str.replace(' ', '').str.replace('₽', '').str.replace(',', '.')\n",
    "# Применение функции к столбцу 'Сумма'\n",
    "df[4] = df[4].apply(process_cell)\n",
    "\n",
    "# Преобразование столбца в числовой формат (float)\n",
    "df[4] = df[4].astype(float)\n",
    "df[5] = df[5].str.replace(',', '').str.replace('%', '')\n",
    "df[5] = df[5].astype(float) / 100"
   ]
  },
  {
   "cell_type": "code",
   "execution_count": 10,
   "id": "cf2b4a2a-e2a3-4b1b-aae5-24d896cba106",
   "metadata": {},
   "outputs": [],
   "source": [
    "df[0] = df[0].replace('\\xa0', '')"
   ]
  },
  {
   "cell_type": "markdown",
   "id": "c4026675-fd42-401c-a3d3-ddc7b31d6952",
   "metadata": {},
   "source": [
    "# Корреляционный анализ параметров займа"
   ]
  },
  {
   "cell_type": "code",
   "execution_count": 11,
   "id": "ada32c76-531c-4f80-a5d0-4afc9c525bbe",
   "metadata": {},
   "outputs": [],
   "source": [
    "correlation_matrix = df.corr()"
   ]
  },
  {
   "cell_type": "code",
   "execution_count": 12,
   "id": "7a010dae-b7f4-41fa-b010-5a0b04b513a8",
   "metadata": {},
   "outputs": [],
   "source": [
    "import seaborn as sns\n",
    "import matplotlib.pyplot as plt"
   ]
  },
  {
   "cell_type": "code",
   "execution_count": 13,
   "id": "31fb5259-ceb5-42c5-84d1-9b6976dba681",
   "metadata": {},
   "outputs": [],
   "source": [
    "%matplotlib inline"
   ]
  },
  {
   "cell_type": "code",
   "execution_count": 192,
   "id": "4f288323-1bba-40da-9350-6d27b3cb43ea",
   "metadata": {},
   "outputs": [],
   "source": [
    "df_corr = df.iloc[:, :6]"
   ]
  },
  {
   "cell_type": "code",
   "execution_count": 193,
   "id": "b216c76e-6308-42b2-b6bc-10eaed3028a2",
   "metadata": {},
   "outputs": [
    {
     "data": {
      "image/png": "[encoded data removed]",
      "text/plain": [
       "<Figure size 640x480 with 2 Axes>"
      ]
     },
     "metadata": {},
     "output_type": "display_data"
    }
   ],
   "source": [
    "sns.heatmap(df_corr.corr(), annot=True, linewidths=0.5, linecolor='black', cmap='rainbow', vmin=-1, vmax=1)\n",
    "plt.show()"
   ]
  },
  {
   "cell_type": "markdown",
   "id": "502a66d8-c002-4c7e-b865-a9fe82f825b4",
   "metadata": {},
   "source": [
    "# Из матрицы корреляций видим что существует сильная зависимость между суммой на которую выдали займ и неоплаченной его частью, а также между выданной суммой и заработанной суммой. Также существует положительная корреляция между комиссией и рейтингом. Отрицательная корреляция, пусть и не очень выделюящаяся есть между суммой займа и рейтингом, а также между суммой займа и процентом комиссии"
   ]
  },
  {
   "cell_type": "markdown",
   "id": "f8dd7505-de58-43d4-b050-b9f1b6ad5bca",
   "metadata": {},
   "source": [
    "Сильная зависимость между суммой выдачи займа и неоплаченной его частью: Положительная корреляция между суммой выдачи займа и неоплаченной частью указывает на то, что чем больше сумма выдачи займа, тем больше сумма, которую клиенты не возвращают. Это может быть связано с тем, что более крупные займы могут иметь больший риск невозврата.\r\n",
    "\r\n",
    "Сильная зависимость между суммой выдачи займа и заработанной суммойП положительная корреляция между суммой выдачи займа и заработанной суммой указывает на то, что более крупные займы могут приносить больше прибыли. Однако это также может увеличить риски.\r\n",
    "\r\n",
    "Положительная корреляция между комиссией и рейтингом: Это может означать, что клиенты с более высоким рейтингом могут соглашаться на более высокие проценты комиссии. Это может быть связано с более высокой уверенностью кредитора в возможности таких клиентов вернуть займ.\r\n",
    "\r\n",
    "Отрицательная корреляция между суммой займа и рейтингом: Отрицательная корреляция может указывать на то, что клиенты с более низким рейтингом могут чаще запрашивать более крупные займы. Возможно, кредиторы предоставляют более низкие суммы тем, у кого есть более высокий рейтинг из-за рисков, связанных с клиентами с низким рейтингом.\r\n",
    "\r\n",
    "Отрицательная корреляция между суммой займа и процентом комиссии: Отрицательная корреляция может указывать на то, что клиенты, запрашивающие более крупные займы, могут получать более низкий процент комиссии. Это может быть стратегией для привлечения клиентов к более крупным займам."
   ]
  },
  {
   "cell_type": "code",
   "execution_count": 14,
   "id": "9a549199-8546-4477-8d34-b69fe093a838",
   "metadata": {},
   "outputs": [],
   "source": [
    "from sklearn.feature_selection import RFE"
   ]
  },
  {
   "cell_type": "markdown",
   "id": "fb00645f-e632-4775-ac83-dfa267ca004a",
   "metadata": {},
   "source": [
    "# Расчет целевой переменной для каждой строки"
   ]
  },
  {
   "cell_type": "code",
   "execution_count": 15,
   "id": "13ba9a3a-e74b-4046-a138-fd7dde08907e",
   "metadata": {},
   "outputs": [],
   "source": [
    "el_amount = df[5]*df[0]/100\n",
    "comission_amount = df[0]*df[2]/100"
   ]
  },
  {
   "cell_type": "code",
   "execution_count": 16,
   "id": "b437a145-cad1-4dfd-ac83-27464727eb84",
   "metadata": {},
   "outputs": [],
   "source": [
    "loss = df[4]*el_amount\n",
    "inv_prof = df[3] - loss\n",
    "profit = inv_prof + comission_amount\n",
    "profit_in_proc = (profit/df[0])*100"
   ]
  },
  {
   "cell_type": "code",
   "execution_count": 18,
   "id": "644e9e80-3b86-4a33-a4a1-5c13ed498f5f",
   "metadata": {},
   "outputs": [],
   "source": [
    "result_df = pd.concat([df, profit_in_proc], axis=1)"
   ]
  },
  {
   "cell_type": "code",
   "execution_count": 19,
   "id": "eb7a63aa-0d74-4520-af08-83dde245ab7e",
   "metadata": {},
   "outputs": [],
   "source": [
    "data = []\n",
    "for i in range(result_df[1].size):\n",
    "    data.append(0)"
   ]
  },
  {
   "cell_type": "code",
   "execution_count": 20,
   "id": "edbc8684-d04a-48ab-83c1-689760bb7372",
   "metadata": {},
   "outputs": [],
   "source": [
    "result_df = pd.concat([result_df, pd.DataFrame(data)], axis = 1)"
   ]
  },
  {
   "cell_type": "code",
   "execution_count": 39,
   "id": "25d6e980-f93c-4f29-8cf2-b8c31781239c",
   "metadata": {},
   "outputs": [],
   "source": [
    "from sklearn.model_selection import train_test_split\n",
    "from sklearn.linear_model import LogisticRegression\n",
    "from sklearn import metrics\n",
    "from sklearn.metrics import accuracy_score, confusion_matrix, classification_report, roc_auc_score"
   ]
  },
  {
   "cell_type": "code",
   "execution_count": 22,
   "id": "e9bb71bd-b65f-4f3c-beab-461b51f0f470",
   "metadata": {},
   "outputs": [],
   "source": [
    "result_df.rename(columns = { 10 : 9}, inplace = True )"
   ]
  },
  {
   "cell_type": "code",
   "execution_count": 23,
   "id": "60dc6b06-fbcc-4feb-bab7-eb083c99d694",
   "metadata": {},
   "outputs": [],
   "source": [
    "result_df.columns = ['0', '1', '2', '3', '4', '5', '6', '7', '8', '9', '10', '11', '12', '13', '14', '15', '16', '17', '18', '19', '20', '21', '22', '23', '24', '25', '26', '27', '28', '29']"
   ]
  },
  {
   "cell_type": "code",
   "execution_count": 24,
   "id": "32e23641-9a3a-467c-a39b-079d586753d2",
   "metadata": {},
   "outputs": [],
   "source": [
    "result_df.loc[pd.to_numeric(result_df['28']) > 0, '29'] = 1"
   ]
  },
  {
   "cell_type": "code",
   "execution_count": 25,
   "id": "0956cfaf-48ee-4815-8a28-56a0498db0b5",
   "metadata": {},
   "outputs": [],
   "source": [
    "result_df = result_df.iloc[:, :30]"
   ]
  },
  {
   "cell_type": "code",
   "execution_count": 70,
   "id": "5b178f3b-451e-42e8-8ad6-f564329b187d",
   "metadata": {},
   "outputs": [],
   "source": [
    "%matplotlib qt"
   ]
  },
  {
   "cell_type": "markdown",
   "id": "2e18534a-c911-46c3-acca-70a08523e020",
   "metadata": {},
   "source": [
    "# Итоговый корреляционный анализ для всех признаков"
   ]
  },
  {
   "cell_type": "code",
   "execution_count": 71,
   "id": "c31e8a28-dc47-464c-bec1-f62dc65ed0af",
   "metadata": {},
   "outputs": [],
   "source": [
    "sns.heatmap(result_df.corr(), annot=True, linewidths=0.5, linecolor='black', cmap='rainbow', vmin=-1, vmax=1)\n",
    "plt.show()"
   ]
  },
  {
   "cell_type": "markdown",
   "id": "de2915fe-b96f-493a-b999-60521bb12bf2",
   "metadata": {},
   "source": [
    "# Регрессионный анализ для всех признаков"
   ]
  },
  {
   "cell_type": "code",
   "execution_count": 27,
   "id": "483b2963-4109-4b17-b35c-133634d4ea58",
   "metadata": {},
   "outputs": [],
   "source": [
    "X = result_df.drop(\"29\", axis=1)  # Факторы\n",
    "y = result_df[\"29\"]"
   ]
  },
  {
   "cell_type": "code",
   "execution_count": 28,
   "id": "e9b36914-f99c-4d03-ba34-48512103d4cc",
   "metadata": {},
   "outputs": [],
   "source": [
    "X_train, X_test, y_train, y_test = train_test_split(X, y, test_size=0.2, random_state=42)"
   ]
  },
  {
   "cell_type": "code",
   "execution_count": 62,
   "id": "3438880f-5fd0-408e-8e2c-ca66aef0adee",
   "metadata": {},
   "outputs": [
    {
     "data": {
      "text/html": [
       "<style>#sk-container-id-4 {color: black;}#sk-container-id-4 pre{padding: 0;}#sk-container-id-4 div.sk-toggleable {background-color: white;}#sk-container-id-4 label.sk-toggleable__label {cursor: pointer;display: block;width: 100%;margin-bottom: 0;padding: 0.3em;box-sizing: border-box;text-align: center;}#sk-container-id-4 label.sk-toggleable__label-arrow:before {content: \"▸\";float: left;margin-right: 0.25em;color: #696969;}#sk-container-id-4 label.sk-toggleable__label-arrow:hover:before {color: black;}#sk-container-id-4 div.sk-estimator:hover label.sk-toggleable__label-arrow:before {color: black;}#sk-container-id-4 div.sk-toggleable__content {max-height: 0;max-width: 0;overflow: hidden;text-align: left;background-color: #f0f8ff;}#sk-container-id-4 div.sk-toggleable__content pre {margin: 0.2em;color: black;border-radius: 0.25em;background-color: #f0f8ff;}#sk-container-id-4 input.sk-toggleable__control:checked~div.sk-toggleable__content {max-height: 200px;max-width: 100%;overflow: auto;}#sk-container-id-4 input.sk-toggleable__control:checked~label.sk-toggleable__label-arrow:before {content: \"▾\";}#sk-container-id-4 div.sk-estimator input.sk-toggleable__control:checked~label.sk-toggleable__label {background-color: #d4ebff;}#sk-container-id-4 div.sk-label input.sk-toggleable__control:checked~label.sk-toggleable__label {background-color: #d4ebff;}#sk-container-id-4 input.sk-hidden--visually {border: 0;clip: rect(1px 1px 1px 1px);clip: rect(1px, 1px, 1px, 1px);height: 1px;margin: -1px;overflow: hidden;padding: 0;position: absolute;width: 1px;}#sk-container-id-4 div.sk-estimator {font-family: monospace;background-color: #f0f8ff;border: 1px dotted black;border-radius: 0.25em;box-sizing: border-box;margin-bottom: 0.5em;}#sk-container-id-4 div.sk-estimator:hover {background-color: #d4ebff;}#sk-container-id-4 div.sk-parallel-item::after {content: \"\";width: 100%;border-bottom: 1px solid gray;flex-grow: 1;}#sk-container-id-4 div.sk-label:hover label.sk-toggleable__label {background-color: #d4ebff;}#sk-container-id-4 div.sk-serial::before {content: \"\";position: absolute;border-left: 1px solid gray;box-sizing: border-box;top: 0;bottom: 0;left: 50%;z-index: 0;}#sk-container-id-4 div.sk-serial {display: flex;flex-direction: column;align-items: center;background-color: white;padding-right: 0.2em;padding-left: 0.2em;position: relative;}#sk-container-id-4 div.sk-item {position: relative;z-index: 1;}#sk-container-id-4 div.sk-parallel {display: flex;align-items: stretch;justify-content: center;background-color: white;position: relative;}#sk-container-id-4 div.sk-item::before, #sk-container-id-4 div.sk-parallel-item::before {content: \"\";position: absolute;border-left: 1px solid gray;box-sizing: border-box;top: 0;bottom: 0;left: 50%;z-index: -1;}#sk-container-id-4 div.sk-parallel-item {display: flex;flex-direction: column;z-index: 1;position: relative;background-color: white;}#sk-container-id-4 div.sk-parallel-item:first-child::after {align-self: flex-end;width: 50%;}#sk-container-id-4 div.sk-parallel-item:last-child::after {align-self: flex-start;width: 50%;}#sk-container-id-4 div.sk-parallel-item:only-child::after {width: 0;}#sk-container-id-4 div.sk-dashed-wrapped {border: 1px dashed gray;margin: 0 0.4em 0.5em 0.4em;box-sizing: border-box;padding-bottom: 0.4em;background-color: white;}#sk-container-id-4 div.sk-label label {font-family: monospace;font-weight: bold;display: inline-block;line-height: 1.2em;}#sk-container-id-4 div.sk-label-container {text-align: center;}#sk-container-id-4 div.sk-container {/* jupyter's `normalize.less` sets `[hidden] { display: none; }` but bootstrap.min.css set `[hidden] { display: none !important; }` so we also need the `!important` here to be able to override the default hidden behavior on the sphinx rendered scikit-learn.org. See: https://github.com/scikit-learn/scikit-learn/issues/21755 */display: inline-block !important;position: relative;}#sk-container-id-4 div.sk-text-repr-fallback {display: none;}</style><div id=\"sk-container-id-4\" class=\"sk-top-container\"><div class=\"sk-text-repr-fallback\"><pre>LogisticRegression()</pre><b>In a Jupyter environment, please rerun this cell to show the HTML representation or trust the notebook. <br />On GitHub, the HTML representation is unable to render, please try loading this page with nbviewer.org.</b></div><div class=\"sk-container\" hidden><div class=\"sk-item\"><div class=\"sk-estimator sk-toggleable\"><input class=\"sk-toggleable__control sk-hidden--visually\" id=\"sk-estimator-id-4\" type=\"checkbox\" checked><label for=\"sk-estimator-id-4\" class=\"sk-toggleable__label sk-toggleable__label-arrow\">LogisticRegression</label><div class=\"sk-toggleable__content\"><pre>LogisticRegression()</pre></div></div></div></div></div>"
      ],
      "text/plain": [
       "LogisticRegression()"
      ]
     },
     "execution_count": 62,
     "metadata": {},
     "output_type": "execute_result"
    }
   ],
   "source": [
    "model = LogisticRegression()\n",
    "model.fit(X_train, y_train)"
   ]
  },
  {
   "cell_type": "code",
   "execution_count": 30,
   "id": "4e37abee-9359-4017-9342-38110a1a56b2",
   "metadata": {},
   "outputs": [
    {
     "name": "stdout",
     "output_type": "stream",
     "text": [
      "Accuracy: 1.0\n",
      "ROC-AUC: 1.0\n",
      "Confusion Matrix:\n",
      "[[92  0]\n",
      " [ 0 15]]\n",
      "Classification Report:\n",
      "              precision    recall  f1-score   support\n",
      "\n",
      "           0       1.00      1.00      1.00        92\n",
      "           1       1.00      1.00      1.00        15\n",
      "\n",
      "    accuracy                           1.00       107\n",
      "   macro avg       1.00      1.00      1.00       107\n",
      "weighted avg       1.00      1.00      1.00       107\n",
      "\n"
     ]
    }
   ],
   "source": [
    "y_pred_proba = model.predict_proba(X_test)[:, 1]\n",
    "\n",
    "threshold = 0.5\n",
    "\n",
    "y_pred = (y_pred_proba > threshold).astype(int)\n",
    "\n",
    "accuracy = accuracy_score(y_test, y_pred)\n",
    "roc_auc = roc_auc_score(y_test, y_pred_proba)\n",
    "conf_matrix = confusion_matrix(y_test, y_pred)\n",
    "class_report = classification_report(y_test, y_pred)\n",
    "\n",
    "print(f\"Accuracy: {accuracy}\")\n",
    "print(f\"ROC-AUC: {roc_auc}\")\n",
    "print(f\"Confusion Matrix:\\n{conf_matrix}\")\n",
    "print(f\"Classification Report:\\n{class_report}\")"
   ]
  },
  {
   "cell_type": "code",
   "execution_count": 31,
   "id": "e3690d22-fc67-4fca-9a24-1227ddd06fe1",
   "metadata": {},
   "outputs": [],
   "source": [
    "feature_importance = model.coef_[0]"
   ]
  },
  {
   "cell_type": "code",
   "execution_count": 32,
   "id": "7a24cbb7-2e13-4892-ace3-3125ecc410be",
   "metadata": {},
   "outputs": [
    {
     "name": "stdout",
     "output_type": "stream",
     "text": [
      "[ 7.25601135e-05 -1.37790991e-08 -1.03661621e-08 -3.19416748e-04\n",
      " -5.49476984e-05  1.00197328e-08 -9.67434753e-11 -9.30525652e-11\n",
      " -1.20396233e-10  6.36393507e-11 -1.60378491e-10  8.53891074e-10\n",
      " -1.86266958e-11 -7.39582024e-10 -3.75851846e-10  2.87320693e-10\n",
      "  4.31746727e-10 -1.92323907e-10  1.72351855e-10 -9.38399022e-12\n",
      "  4.27840044e-10 -1.80248897e-10 -8.12687789e-11 -7.09510919e-10\n",
      "  1.06140364e-10 -7.57210895e-10 -1.81824244e-11 -6.48593136e-11\n",
      "  4.09250603e-04]\n"
     ]
    }
   ],
   "source": [
    "print(feature_importance)"
   ]
  },
  {
   "cell_type": "markdown",
   "id": "875870b3-59a9-43b7-8606-188ea55ebd97",
   "metadata": {},
   "source": [
    "# Проанализируем важность признаков для целевой переменной(прибыли)"
   ]
  },
  {
   "cell_type": "markdown",
   "id": "d6014b9d-6eb1-47dd-93ae-f40a3fa2cbdb",
   "metadata": {},
   "source": [
    "Положительно влияет на целевую переменную такие признаки как: \n",
    "Сумма займа(чем выше, тем больше прибыль, но риски тоже повышаются); \n",
    "Ожидаемые потери(чем ниже, тем больше прибыль); \n",
    "Была ли в компании смена учредителя(если нет то прибыль чаще выше); \n",
    "Первое ли это ЮР(если да, то прибыль чаще ниже);\n",
    "Имеет ли компания информацию об объеме своей выручки(если да, то прибыль чаще выше); \n",
    "Знает ли о ФОТ(если да, то прибыль выше); \n",
    "Знает ли клиент наценку(рентабельность, прибыль)(если да то прибыль выше); \n",
    "Релевантный ли опыт работы(если да прибыль чаще выше);\n",
    "Еслть ли у клиента не оформленный официально партнер(если есть то прибыль чаще ниже)."
   ]
  },
  {
   "cell_type": "markdown",
   "id": "32743e4b-ab69-4f7f-bc2a-d6cfd44e5faa",
   "metadata": {},
   "source": [
    "# Регрессионный анализ для факторов"
   ]
  },
  {
   "cell_type": "code",
   "execution_count": 73,
   "id": "5ead2cb8-0a61-475d-a0d3-4280e53bab23",
   "metadata": {},
   "outputs": [
    {
     "data": {
      "text/html": [
       "<style>#sk-container-id-5 {color: black;}#sk-container-id-5 pre{padding: 0;}#sk-container-id-5 div.sk-toggleable {background-color: white;}#sk-container-id-5 label.sk-toggleable__label {cursor: pointer;display: block;width: 100%;margin-bottom: 0;padding: 0.3em;box-sizing: border-box;text-align: center;}#sk-container-id-5 label.sk-toggleable__label-arrow:before {content: \"▸\";float: left;margin-right: 0.25em;color: #696969;}#sk-container-id-5 label.sk-toggleable__label-arrow:hover:before {color: black;}#sk-container-id-5 div.sk-estimator:hover label.sk-toggleable__label-arrow:before {color: black;}#sk-container-id-5 div.sk-toggleable__content {max-height: 0;max-width: 0;overflow: hidden;text-align: left;background-color: #f0f8ff;}#sk-container-id-5 div.sk-toggleable__content pre {margin: 0.2em;color: black;border-radius: 0.25em;background-color: #f0f8ff;}#sk-container-id-5 input.sk-toggleable__control:checked~div.sk-toggleable__content {max-height: 200px;max-width: 100%;overflow: auto;}#sk-container-id-5 input.sk-toggleable__control:checked~label.sk-toggleable__label-arrow:before {content: \"▾\";}#sk-container-id-5 div.sk-estimator input.sk-toggleable__control:checked~label.sk-toggleable__label {background-color: #d4ebff;}#sk-container-id-5 div.sk-label input.sk-toggleable__control:checked~label.sk-toggleable__label {background-color: #d4ebff;}#sk-container-id-5 input.sk-hidden--visually {border: 0;clip: rect(1px 1px 1px 1px);clip: rect(1px, 1px, 1px, 1px);height: 1px;margin: -1px;overflow: hidden;padding: 0;position: absolute;width: 1px;}#sk-container-id-5 div.sk-estimator {font-family: monospace;background-color: #f0f8ff;border: 1px dotted black;border-radius: 0.25em;box-sizing: border-box;margin-bottom: 0.5em;}#sk-container-id-5 div.sk-estimator:hover {background-color: #d4ebff;}#sk-container-id-5 div.sk-parallel-item::after {content: \"\";width: 100%;border-bottom: 1px solid gray;flex-grow: 1;}#sk-container-id-5 div.sk-label:hover label.sk-toggleable__label {background-color: #d4ebff;}#sk-container-id-5 div.sk-serial::before {content: \"\";position: absolute;border-left: 1px solid gray;box-sizing: border-box;top: 0;bottom: 0;left: 50%;z-index: 0;}#sk-container-id-5 div.sk-serial {display: flex;flex-direction: column;align-items: center;background-color: white;padding-right: 0.2em;padding-left: 0.2em;position: relative;}#sk-container-id-5 div.sk-item {position: relative;z-index: 1;}#sk-container-id-5 div.sk-parallel {display: flex;align-items: stretch;justify-content: center;background-color: white;position: relative;}#sk-container-id-5 div.sk-item::before, #sk-container-id-5 div.sk-parallel-item::before {content: \"\";position: absolute;border-left: 1px solid gray;box-sizing: border-box;top: 0;bottom: 0;left: 50%;z-index: -1;}#sk-container-id-5 div.sk-parallel-item {display: flex;flex-direction: column;z-index: 1;position: relative;background-color: white;}#sk-container-id-5 div.sk-parallel-item:first-child::after {align-self: flex-end;width: 50%;}#sk-container-id-5 div.sk-parallel-item:last-child::after {align-self: flex-start;width: 50%;}#sk-container-id-5 div.sk-parallel-item:only-child::after {width: 0;}#sk-container-id-5 div.sk-dashed-wrapped {border: 1px dashed gray;margin: 0 0.4em 0.5em 0.4em;box-sizing: border-box;padding-bottom: 0.4em;background-color: white;}#sk-container-id-5 div.sk-label label {font-family: monospace;font-weight: bold;display: inline-block;line-height: 1.2em;}#sk-container-id-5 div.sk-label-container {text-align: center;}#sk-container-id-5 div.sk-container {/* jupyter's `normalize.less` sets `[hidden] { display: none; }` but bootstrap.min.css set `[hidden] { display: none !important; }` so we also need the `!important` here to be able to override the default hidden behavior on the sphinx rendered scikit-learn.org. See: https://github.com/scikit-learn/scikit-learn/issues/21755 */display: inline-block !important;position: relative;}#sk-container-id-5 div.sk-text-repr-fallback {display: none;}</style><div id=\"sk-container-id-5\" class=\"sk-top-container\"><div class=\"sk-text-repr-fallback\"><pre>LogisticRegression()</pre><b>In a Jupyter environment, please rerun this cell to show the HTML representation or trust the notebook. <br />On GitHub, the HTML representation is unable to render, please try loading this page with nbviewer.org.</b></div><div class=\"sk-container\" hidden><div class=\"sk-item\"><div class=\"sk-estimator sk-toggleable\"><input class=\"sk-toggleable__control sk-hidden--visually\" id=\"sk-estimator-id-5\" type=\"checkbox\" checked><label for=\"sk-estimator-id-5\" class=\"sk-toggleable__label sk-toggleable__label-arrow\">LogisticRegression</label><div class=\"sk-toggleable__content\"><pre>LogisticRegression()</pre></div></div></div></div></div>"
      ],
      "text/plain": [
       "LogisticRegression()"
      ]
     },
     "execution_count": 73,
     "metadata": {},
     "output_type": "execute_result"
    }
   ],
   "source": [
    "x = X.iloc[:, 6:]\n",
    "x_train1, x_test1, y_train1, y_test1 = train_test_split(x, y, test_size=0.2, random_state=42)\n",
    "model1 = LogisticRegression()\n",
    "model1.fit(x_train1, y_train1)"
   ]
  },
  {
   "cell_type": "code",
   "execution_count": 74,
   "id": "d081cfda-2f0d-4c63-8efd-54f00e36460f",
   "metadata": {},
   "outputs": [
    {
     "name": "stdout",
     "output_type": "stream",
     "text": [
      "Accuracy: 1.0\n",
      "ROC-AUC: 1.0\n",
      "Confusion Matrix:\n",
      "[[92  0]\n",
      " [ 0 15]]\n",
      "Classification Report:\n",
      "              precision    recall  f1-score   support\n",
      "\n",
      "           0       1.00      1.00      1.00        92\n",
      "           1       1.00      1.00      1.00        15\n",
      "\n",
      "    accuracy                           1.00       107\n",
      "   macro avg       1.00      1.00      1.00       107\n",
      "weighted avg       1.00      1.00      1.00       107\n",
      "\n"
     ]
    }
   ],
   "source": [
    "y_pred_proba = model1.predict_proba(x_test1)[:, 1]\n",
    "\n",
    "threshold = 0.5\n",
    "\n",
    "y_pred = (y_pred_proba > threshold).astype(int)\n",
    "\n",
    "accuracy = accuracy_score(y_test1, y_pred)\n",
    "roc_auc = roc_auc_score(y_test1, y_pred_proba)\n",
    "conf_matrix = confusion_matrix(y_test1, y_pred)\n",
    "class_report = classification_report(y_test1, y_pred)\n",
    "\n",
    "print(f\"Accuracy: {accuracy}\")\n",
    "print(f\"ROC-AUC: {roc_auc}\")\n",
    "print(f\"Confusion Matrix:\\n{conf_matrix}\")\n",
    "print(f\"Classification Report:\\n{class_report}\")"
   ]
  },
  {
   "cell_type": "code",
   "execution_count": 77,
   "id": "28d21c4e-a811-4189-af54-d2fdaffeca6d",
   "metadata": {},
   "outputs": [
    {
     "name": "stdout",
     "output_type": "stream",
     "text": [
      "[-1.71315874e-14 -9.07830267e-06  1.78154925e-06 -1.78099346e-05\n",
      "  1.01832695e-05 -1.87564653e-05 -1.58528320e-05  2.97055692e-05\n",
      " -7.01989531e-06 -1.08268740e-05 -2.74270519e-05  3.08892205e-06\n",
      " -9.07830269e-06  2.16046520e-14  3.74916551e-05  2.34618455e-05\n",
      "  6.61614938e-07 -3.78193531e-06 -1.13567097e-05 -2.99569922e-06\n",
      "  7.56162790e-15  1.07976135e-14  5.40367688e-04]\n"
     ]
    }
   ],
   "source": [
    "feature_importance = model1.coef_[0]\n",
    "print(feature_importance)"
   ]
  },
  {
   "cell_type": "markdown",
   "id": "cf9b156b-93bb-4079-8e51-3c4fa82871bf",
   "metadata": {},
   "source": [
    "Увидим что наиболее важные признаки : \n",
    "Заемщик от партнера и был подготовлен к ВИ. \n",
    "Офис находится в здании партнера/друга/родственника, аренду не платит. \n",
    "Не потребовалось денег для начала бизнеса, тк были договоренности с поставщиками. \n",
    "Нелогичный выбор сферы бизнеса. \n",
    "Нерелевантный опыт работы. Не знает кредиторов ), в тч объем обязательств. \n",
    "Не знает наценку (рентабельность, прибыль). \n",
    "Не знает ФОТ. Выручка компании в первый год > 30 млн. \n",
    "В компании была смена учредителя"
   ]
  },
  {
   "cell_type": "markdown",
   "id": "902c8ab9-9490-4000-a068-f2f32e54859d",
   "metadata": {},
   "source": [
    "# Ранжируем факторы"
   ]
  },
  {
   "cell_type": "code",
   "execution_count": 78,
   "id": "fbf3eb3a-ed88-4d87-a477-2239d6e6b256",
   "metadata": {},
   "outputs": [
    {
     "name": "stdout",
     "output_type": "stream",
     "text": [
      "[21 14 18  5 10 12  7 13  4  9 11 15 16 20  6  2 19 17  3  8 23 22  1]\n"
     ]
    }
   ],
   "source": [
    "from sklearn.feature_selection import RFE\n",
    "\n",
    "rfe = RFE(model1, n_features_to_select=1)\n",
    "rfe.fit(x_train1, y_train1)\n",
    "feature_ranking = rfe.ranking_\n",
    "print(feature_ranking)"
   ]
  },
  {
   "cell_type": "markdown",
   "id": "bf93af4a-b9fb-431b-98ba-76df6c9eccac",
   "metadata": {},
   "source": [
    "Увидим что наибольшее влияние на целевую переменную оказывают теже самые факторы что и при анализе важности признаков"
   ]
  },
  {
   "cell_type": "markdown",
   "id": "83bf9eff-2c2a-4b2b-9005-f38fc354b7a2",
   "metadata": {},
   "source": [
    "# Ранжируем признаки"
   ]
  },
  {
   "cell_type": "code",
   "execution_count": 65,
   "id": "a54690d0-5382-4c89-b728-f51ef4d2f552",
   "metadata": {},
   "outputs": [],
   "source": [
    "from sklearn.feature_selection import RFE\n",
    "\n",
    "rfe = RFE(model, n_features_to_select=1)\n",
    "rfe.fit(X_train, y_train)\n",
    "feature_ranking = rfe.ranking_"
   ]
  },
  {
   "cell_type": "code",
   "execution_count": 66,
   "id": "e3cd4679-c832-4d31-9f31-a3cf777c5981",
   "metadata": {},
   "outputs": [
    {
     "name": "stdout",
     "output_type": "stream",
     "text": [
      "[ 3  5  6  2  4  7 22 23 20 26 19  8 27 10 14 15 12 16 18 29 13 17 24 11\n",
      " 21  9 28 25  1]\n"
     ]
    }
   ],
   "source": [
    "print(feature_ranking)"
   ]
  },
  {
   "cell_type": "markdown",
   "id": "dfbf9b3d-48f4-4b44-8082-077568f4e237",
   "metadata": {},
   "source": [
    "Увидим, что наибольшее влияние на регрессанта оказывает влияне следующее: заработанная сумма, сумма займа, невыплаченная сумма, рейтинг, комиссия, ожидаемые потери, является ли компания первым ЮЛ, есть ли официально неоформленный \"партнер\", основано ли текущее ЮЛ до 30 лет."
   ]
  },
  {
   "cell_type": "code",
   "execution_count": 53,
   "id": "e242bb47-242e-43d3-bae2-176dcd3e4cac",
   "metadata": {},
   "outputs": [
    {
     "name": "stderr",
     "output_type": "stream",
     "text": [
      "IProgress not found. Please update jupyter and ipywidgets. See https://ipywidgets.readthedocs.io/en/stable/user_install.html\n"
     ]
    }
   ],
   "source": [
    "import shap"
   ]
  },
  {
   "cell_type": "code",
   "execution_count": 64,
   "id": "d56db095-fd91-453c-bf40-f7f41dc2f892",
   "metadata": {},
   "outputs": [
    {
     "name": "stderr",
     "output_type": "stream",
     "text": [
      "No data for colormapping provided via 'c'. Parameters 'vmin', 'vmax' will be ignored\n"
     ]
    },
    {
     "data": {
      "image/png": "[encoded data removed]",
      "text/plain": [
       "<Figure size 800x950 with 2 Axes>"
      ]
     },
     "metadata": {},
     "output_type": "display_data"
    }
   ],
   "source": [
    "explainer = shap.KernelExplainer(model.predict, X)\n",
    "shap_values = explainer.shap_values(X)\n",
    "shap.summary_plot(shap_values, X)"
   ]
  },
  {
   "cell_type": "markdown",
   "id": "b19e172f-73d9-4cbf-adab-caf4a1e64e23",
   "metadata": {},
   "source": [
    "Из графика видим, что существенное влияние на модель оказывает значение прибыли, сумма займа(даже при большой сумме, влияние на прибыль бывает отрицательным, что говорит о рисках), невыплаченная часть займа(чем ниже невыплаченная сумма, тем обычно больше прибыль), заработанная сумма(в целом сильно коррелирует с суммой займа, поэтому даже при большом значении, прибыль может оказаться отрицательной), а также небольшое влияние оказывает комиссия."
   ]
  },
  {
   "cell_type": "code",
   "execution_count": null,
   "id": "2e3cf423-6ff6-43e1-b8cb-76a454b18fda",
   "metadata": {},
   "outputs": [],
   "source": [
    "explainer = shap.KernelExplainer(model1.predict, x)\n",
    "shap_values = explainer.shap_values(x)\n",
    "shap.summary_plot(shap_values, x)"
   ]
  },
  {
   "cell_type": "markdown",
   "id": "525e05b3-4562-4282-809e-06f15918e131",
   "metadata": {},
   "source": [
    "# Из проведенного регрессионного анализа видим, что наиболее важными признаками для изменения, с целью получения прибыли являются : заработанная сумма, сумма займа, невыплаченная сумма, рейтинг, комиссия, ожидаемые потери, есть ли официально неоформленный \"партнер\", основано ли текущее ЮЛ до 30 лет. Различные подходы дают немного разные результаты, по тому, насколько признак является важным, но при этом все выделяют одни и теже признаки. Также видим, что наибольшее влияние все-таки оказывает информация о займе, нежели факторы из таблицы. Если не учитывать информацию о займах, то наибольшее влияние оказывают следующие факторы : Заемщик от партнера и был подготовлен к ВИ. Офис находится в здании партнера/друга/родственника, аренду не платит. Не потребовалось денег для начала бизнеса, тк были договоренности с поставщиками. Нелогичный выбор сферы бизнеса. Нерелевантный опыт работы. Не знает кредиторов ), в тч объем обязательств. Не знает наценку (рентабельность, прибыль). Не знает ФОТ. Выручка компании в первый год > 30 млн. В компании была смена учредителя"
   ]
  },
  {
   "cell_type": "code",
   "execution_count": null,
   "id": "758530ed-5974-4dd6-96c8-670a86c9fe9c",
   "metadata": {},
   "outputs": [],
   "source": []
  }
 ],
 "metadata": {
  "kernelspec": {
   "display_name": "Python 3 (ipykernel)",
   "language": "python",
   "name": "python3"
  },
  "language_info": {
   "codemirror_mode": {
    "name": "ipython",
    "version": 3
   },
   "file_extension": ".py",
   "mimetype": "text/x-python",
   "name": "python",
   "nbconvert_exporter": "python",
   "pygments_lexer": "ipython3",
   "version": "3.9.18"
  }
 },
 "nbformat": 4,
 "nbformat_minor": 5
}
